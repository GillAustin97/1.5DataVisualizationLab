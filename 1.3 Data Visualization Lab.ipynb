{
 "cells": [
  {
   "cell_type": "markdown",
   "id": "745729be-5560-4f36-bc6d-7e2d024d70d5",
   "metadata": {},
   "source": [
    "# Lab Instructions\n",
    "\n",
    "You have been hired by a record executive to design a guaranteed smash hit song based on data.  The exec has decided that if you make a song that has all the most popular features of recent songs then it will definitely be a hit.  So if - for example - the most common key in the Spotify data is C# then we would want the song we are designing to also be in C#.  If a \"typical\" value of BPM is between 120 and 130 then we would want the song we are designing to also have a tempo between 120 and 130 BMP.\n",
    "\n",
    "Visualize and describe the distribution of:\n",
    "* BPM\n",
    "* Key\n",
    "* Mode\n",
    "* Danceability\n",
    "* Energy\n",
    "* Speechiness\n",
    "* Acousticness\n",
    "\n",
    "Based on your visualizations and calculations, what values for each of these features would make a song a guaranteed smash hit?  For quantitative features, you should propose a range of values.\n",
    "\n",
    "Use a large language model to help you write code to identify if there are any songs in the Spotify dataset that meet all of the criteria we determined.  What is/are the artist(s) and title(s) of the song?  Were any of these songs actually popular?\n",
    "\n",
    "Pick a song that you know was a smash hit. How do the values of BPM, key, mode, danceability, etc. compare to other songs? \n",
    "\n",
    "**Hint:**  Import the Spotify data using `df = pd.read_csv('spotify-2023.csv', encoding='ISO-8859-1')`."
   ]
  },
  {
   "cell_type": "code",
   "execution_count": 1,
   "id": "841e7228-8179-4d0e-b2fc-98a9d68b7e22",
   "metadata": {
    "tags": []
   },
   "outputs": [
    {
     "data": {
      "text/html": [
       "<div>\n",
       "<style scoped>\n",
       "    .dataframe tbody tr th:only-of-type {\n",
       "        vertical-align: middle;\n",
       "    }\n",
       "\n",
       "    .dataframe tbody tr th {\n",
       "        vertical-align: top;\n",
       "    }\n",
       "\n",
       "    .dataframe thead th {\n",
       "        text-align: right;\n",
       "    }\n",
       "</style>\n",
       "<table border=\"1\" class=\"dataframe\">\n",
       "  <thead>\n",
       "    <tr style=\"text-align: right;\">\n",
       "      <th></th>\n",
       "      <th>track_name</th>\n",
       "      <th>artist(s)_name</th>\n",
       "      <th>artist_count</th>\n",
       "      <th>released_year</th>\n",
       "      <th>released_month</th>\n",
       "      <th>released_day</th>\n",
       "      <th>in_spotify_playlists</th>\n",
       "      <th>in_spotify_charts</th>\n",
       "      <th>streams</th>\n",
       "      <th>in_apple_playlists</th>\n",
       "      <th>...</th>\n",
       "      <th>bpm</th>\n",
       "      <th>key</th>\n",
       "      <th>mode</th>\n",
       "      <th>danceability_%</th>\n",
       "      <th>valence_%</th>\n",
       "      <th>energy_%</th>\n",
       "      <th>acousticness_%</th>\n",
       "      <th>instrumentalness_%</th>\n",
       "      <th>liveness_%</th>\n",
       "      <th>speechiness_%</th>\n",
       "    </tr>\n",
       "  </thead>\n",
       "  <tbody>\n",
       "    <tr>\n",
       "      <th>0</th>\n",
       "      <td>Seven (feat. Latto) (Explicit Ver.)</td>\n",
       "      <td>Latto, Jung Kook</td>\n",
       "      <td>2</td>\n",
       "      <td>2023</td>\n",
       "      <td>7</td>\n",
       "      <td>14</td>\n",
       "      <td>553</td>\n",
       "      <td>147</td>\n",
       "      <td>141381703</td>\n",
       "      <td>43</td>\n",
       "      <td>...</td>\n",
       "      <td>125</td>\n",
       "      <td>B</td>\n",
       "      <td>Major</td>\n",
       "      <td>80</td>\n",
       "      <td>89</td>\n",
       "      <td>83</td>\n",
       "      <td>31</td>\n",
       "      <td>0</td>\n",
       "      <td>8</td>\n",
       "      <td>4</td>\n",
       "    </tr>\n",
       "    <tr>\n",
       "      <th>1</th>\n",
       "      <td>LALA</td>\n",
       "      <td>Myke Towers</td>\n",
       "      <td>1</td>\n",
       "      <td>2023</td>\n",
       "      <td>3</td>\n",
       "      <td>23</td>\n",
       "      <td>1474</td>\n",
       "      <td>48</td>\n",
       "      <td>133716286</td>\n",
       "      <td>48</td>\n",
       "      <td>...</td>\n",
       "      <td>92</td>\n",
       "      <td>C#</td>\n",
       "      <td>Major</td>\n",
       "      <td>71</td>\n",
       "      <td>61</td>\n",
       "      <td>74</td>\n",
       "      <td>7</td>\n",
       "      <td>0</td>\n",
       "      <td>10</td>\n",
       "      <td>4</td>\n",
       "    </tr>\n",
       "    <tr>\n",
       "      <th>2</th>\n",
       "      <td>vampire</td>\n",
       "      <td>Olivia Rodrigo</td>\n",
       "      <td>1</td>\n",
       "      <td>2023</td>\n",
       "      <td>6</td>\n",
       "      <td>30</td>\n",
       "      <td>1397</td>\n",
       "      <td>113</td>\n",
       "      <td>140003974</td>\n",
       "      <td>94</td>\n",
       "      <td>...</td>\n",
       "      <td>138</td>\n",
       "      <td>F</td>\n",
       "      <td>Major</td>\n",
       "      <td>51</td>\n",
       "      <td>32</td>\n",
       "      <td>53</td>\n",
       "      <td>17</td>\n",
       "      <td>0</td>\n",
       "      <td>31</td>\n",
       "      <td>6</td>\n",
       "    </tr>\n",
       "    <tr>\n",
       "      <th>3</th>\n",
       "      <td>Cruel Summer</td>\n",
       "      <td>Taylor Swift</td>\n",
       "      <td>1</td>\n",
       "      <td>2019</td>\n",
       "      <td>8</td>\n",
       "      <td>23</td>\n",
       "      <td>7858</td>\n",
       "      <td>100</td>\n",
       "      <td>800840817</td>\n",
       "      <td>116</td>\n",
       "      <td>...</td>\n",
       "      <td>170</td>\n",
       "      <td>A</td>\n",
       "      <td>Major</td>\n",
       "      <td>55</td>\n",
       "      <td>58</td>\n",
       "      <td>72</td>\n",
       "      <td>11</td>\n",
       "      <td>0</td>\n",
       "      <td>11</td>\n",
       "      <td>15</td>\n",
       "    </tr>\n",
       "    <tr>\n",
       "      <th>4</th>\n",
       "      <td>WHERE SHE GOES</td>\n",
       "      <td>Bad Bunny</td>\n",
       "      <td>1</td>\n",
       "      <td>2023</td>\n",
       "      <td>5</td>\n",
       "      <td>18</td>\n",
       "      <td>3133</td>\n",
       "      <td>50</td>\n",
       "      <td>303236322</td>\n",
       "      <td>84</td>\n",
       "      <td>...</td>\n",
       "      <td>144</td>\n",
       "      <td>A</td>\n",
       "      <td>Minor</td>\n",
       "      <td>65</td>\n",
       "      <td>23</td>\n",
       "      <td>80</td>\n",
       "      <td>14</td>\n",
       "      <td>63</td>\n",
       "      <td>11</td>\n",
       "      <td>6</td>\n",
       "    </tr>\n",
       "  </tbody>\n",
       "</table>\n",
       "<p>5 rows × 24 columns</p>\n",
       "</div>"
      ],
      "text/plain": [
       "                            track_name    artist(s)_name  artist_count  \\\n",
       "0  Seven (feat. Latto) (Explicit Ver.)  Latto, Jung Kook             2   \n",
       "1                                 LALA       Myke Towers             1   \n",
       "2                              vampire    Olivia Rodrigo             1   \n",
       "3                         Cruel Summer      Taylor Swift             1   \n",
       "4                       WHERE SHE GOES         Bad Bunny             1   \n",
       "\n",
       "   released_year  released_month  released_day  in_spotify_playlists  \\\n",
       "0           2023               7            14                   553   \n",
       "1           2023               3            23                  1474   \n",
       "2           2023               6            30                  1397   \n",
       "3           2019               8            23                  7858   \n",
       "4           2023               5            18                  3133   \n",
       "\n",
       "   in_spotify_charts    streams  in_apple_playlists  ...  bpm key   mode  \\\n",
       "0                147  141381703                  43  ...  125   B  Major   \n",
       "1                 48  133716286                  48  ...   92  C#  Major   \n",
       "2                113  140003974                  94  ...  138   F  Major   \n",
       "3                100  800840817                 116  ...  170   A  Major   \n",
       "4                 50  303236322                  84  ...  144   A  Minor   \n",
       "\n",
       "  danceability_%  valence_% energy_% acousticness_%  instrumentalness_%  \\\n",
       "0             80         89       83             31                   0   \n",
       "1             71         61       74              7                   0   \n",
       "2             51         32       53             17                   0   \n",
       "3             55         58       72             11                   0   \n",
       "4             65         23       80             14                  63   \n",
       "\n",
       "   liveness_%  speechiness_%  \n",
       "0           8              4  \n",
       "1          10              4  \n",
       "2          31              6  \n",
       "3          11             15  \n",
       "4          11              6  \n",
       "\n",
       "[5 rows x 24 columns]"
      ]
     },
     "execution_count": 1,
     "metadata": {},
     "output_type": "execute_result"
    }
   ],
   "source": [
    "import pandas as pd\n",
    "\n",
    "df = pd.read_csv('spotify-2023.csv', encoding='ISO-8859-1')\n",
    "\n",
    "df.head()"
   ]
  },
  {
   "cell_type": "code",
   "execution_count": 2,
   "id": "6686f8db-f57b-4c28-912e-367e175fb409",
   "metadata": {},
   "outputs": [
    {
     "data": {
      "text/plain": [
       "<Axes: ylabel='Frequency'>"
      ]
     },
     "execution_count": 2,
     "metadata": {},
     "output_type": "execute_result"
    },
    {
     "data": {
      "image/png": "[encoded data removed]",
      "text/plain": [
       "<Figure size 640x480 with 1 Axes>"
      ]
     },
     "metadata": {},
     "output_type": "display_data"
    }
   ],
   "source": [
    "df['bpm'].plot(kind='hist')"
   ]
  },
  {
   "cell_type": "code",
   "execution_count": 4,
   "id": "8711e8e8-0881-4d2a-88f9-94e2e653ad9c",
   "metadata": {
    "scrolled": true
   },
   "outputs": [
    {
     "data": {
      "text/html": [
       "<div>\n",
       "<style scoped>\n",
       "    .dataframe tbody tr th:only-of-type {\n",
       "        vertical-align: middle;\n",
       "    }\n",
       "\n",
       "    .dataframe tbody tr th {\n",
       "        vertical-align: top;\n",
       "    }\n",
       "\n",
       "    .dataframe thead th {\n",
       "        text-align: right;\n",
       "    }\n",
       "</style>\n",
       "<table border=\"1\" class=\"dataframe\">\n",
       "  <thead>\n",
       "    <tr style=\"text-align: right;\">\n",
       "      <th></th>\n",
       "      <th>track_name</th>\n",
       "      <th>artist(s)_name</th>\n",
       "      <th>artist_count</th>\n",
       "      <th>released_year</th>\n",
       "      <th>released_month</th>\n",
       "      <th>released_day</th>\n",
       "      <th>in_spotify_playlists</th>\n",
       "      <th>in_spotify_charts</th>\n",
       "      <th>streams</th>\n",
       "      <th>in_apple_playlists</th>\n",
       "      <th>...</th>\n",
       "      <th>bpm</th>\n",
       "      <th>key</th>\n",
       "      <th>mode</th>\n",
       "      <th>danceability_%</th>\n",
       "      <th>valence_%</th>\n",
       "      <th>energy_%</th>\n",
       "      <th>acousticness_%</th>\n",
       "      <th>instrumentalness_%</th>\n",
       "      <th>liveness_%</th>\n",
       "      <th>speechiness_%</th>\n",
       "    </tr>\n",
       "  </thead>\n",
       "  <tbody>\n",
       "    <tr>\n",
       "      <th>93</th>\n",
       "      <td>Donï¿½ï¿½ï¿½t Bl</td>\n",
       "      <td>Taylor Swift</td>\n",
       "      <td>1</td>\n",
       "      <td>2017</td>\n",
       "      <td>11</td>\n",
       "      <td>8</td>\n",
       "      <td>4875</td>\n",
       "      <td>23</td>\n",
       "      <td>685032533</td>\n",
       "      <td>19</td>\n",
       "      <td>...</td>\n",
       "      <td>136</td>\n",
       "      <td>A</td>\n",
       "      <td>Minor</td>\n",
       "      <td>62</td>\n",
       "      <td>19</td>\n",
       "      <td>53</td>\n",
       "      <td>11</td>\n",
       "      <td>0</td>\n",
       "      <td>6</td>\n",
       "      <td>4</td>\n",
       "    </tr>\n",
       "    <tr>\n",
       "      <th>120</th>\n",
       "      <td>LUNA</td>\n",
       "      <td>Junior H, Peso Pluma</td>\n",
       "      <td>2</td>\n",
       "      <td>2023</td>\n",
       "      <td>6</td>\n",
       "      <td>22</td>\n",
       "      <td>201</td>\n",
       "      <td>11</td>\n",
       "      <td>55842345</td>\n",
       "      <td>19</td>\n",
       "      <td>...</td>\n",
       "      <td>128</td>\n",
       "      <td>A</td>\n",
       "      <td>Minor</td>\n",
       "      <td>75</td>\n",
       "      <td>79</td>\n",
       "      <td>63</td>\n",
       "      <td>33</td>\n",
       "      <td>0</td>\n",
       "      <td>15</td>\n",
       "      <td>4</td>\n",
       "    </tr>\n",
       "    <tr>\n",
       "      <th>131</th>\n",
       "      <td>OMG</td>\n",
       "      <td>NewJeans</td>\n",
       "      <td>1</td>\n",
       "      <td>2023</td>\n",
       "      <td>1</td>\n",
       "      <td>2</td>\n",
       "      <td>1783</td>\n",
       "      <td>27</td>\n",
       "      <td>430977451</td>\n",
       "      <td>26</td>\n",
       "      <td>...</td>\n",
       "      <td>127</td>\n",
       "      <td>A</td>\n",
       "      <td>Minor</td>\n",
       "      <td>80</td>\n",
       "      <td>74</td>\n",
       "      <td>77</td>\n",
       "      <td>36</td>\n",
       "      <td>0</td>\n",
       "      <td>11</td>\n",
       "      <td>4</td>\n",
       "    </tr>\n",
       "    <tr>\n",
       "      <th>150</th>\n",
       "      <td>Mi Bello Angel</td>\n",
       "      <td>Natanael Cano</td>\n",
       "      <td>1</td>\n",
       "      <td>2023</td>\n",
       "      <td>6</td>\n",
       "      <td>30</td>\n",
       "      <td>86</td>\n",
       "      <td>8</td>\n",
       "      <td>31873544</td>\n",
       "      <td>7</td>\n",
       "      <td>...</td>\n",
       "      <td>128</td>\n",
       "      <td>A</td>\n",
       "      <td>Minor</td>\n",
       "      <td>81</td>\n",
       "      <td>90</td>\n",
       "      <td>77</td>\n",
       "      <td>1</td>\n",
       "      <td>0</td>\n",
       "      <td>9</td>\n",
       "      <td>5</td>\n",
       "    </tr>\n",
       "    <tr>\n",
       "      <th>194</th>\n",
       "      <td>Shut up My Moms Calling</td>\n",
       "      <td>Hotel Ugly</td>\n",
       "      <td>1</td>\n",
       "      <td>2020</td>\n",
       "      <td>2</td>\n",
       "      <td>10</td>\n",
       "      <td>1788</td>\n",
       "      <td>14</td>\n",
       "      <td>405136812</td>\n",
       "      <td>1</td>\n",
       "      <td>...</td>\n",
       "      <td>139</td>\n",
       "      <td>A</td>\n",
       "      <td>Minor</td>\n",
       "      <td>48</td>\n",
       "      <td>37</td>\n",
       "      <td>41</td>\n",
       "      <td>32</td>\n",
       "      <td>0</td>\n",
       "      <td>10</td>\n",
       "      <td>10</td>\n",
       "    </tr>\n",
       "  </tbody>\n",
       "</table>\n",
       "<p>5 rows × 24 columns</p>\n",
       "</div>"
      ],
      "text/plain": [
       "                  track_name        artist(s)_name  artist_count  \\\n",
       "93          Donï¿½ï¿½ï¿½t Bl          Taylor Swift             1   \n",
       "120                     LUNA  Junior H, Peso Pluma             2   \n",
       "131                      OMG              NewJeans             1   \n",
       "150           Mi Bello Angel         Natanael Cano             1   \n",
       "194  Shut up My Moms Calling            Hotel Ugly             1   \n",
       "\n",
       "     released_year  released_month  released_day  in_spotify_playlists  \\\n",
       "93            2017              11             8                  4875   \n",
       "120           2023               6            22                   201   \n",
       "131           2023               1             2                  1783   \n",
       "150           2023               6            30                    86   \n",
       "194           2020               2            10                  1788   \n",
       "\n",
       "     in_spotify_charts    streams  in_apple_playlists  ...  bpm key   mode  \\\n",
       "93                  23  685032533                  19  ...  136   A  Minor   \n",
       "120                 11   55842345                  19  ...  128   A  Minor   \n",
       "131                 27  430977451                  26  ...  127   A  Minor   \n",
       "150                  8   31873544                   7  ...  128   A  Minor   \n",
       "194                 14  405136812                   1  ...  139   A  Minor   \n",
       "\n",
       "    danceability_%  valence_% energy_% acousticness_%  instrumentalness_%  \\\n",
       "93              62         19       53             11                   0   \n",
       "120             75         79       63             33                   0   \n",
       "131             80         74       77             36                   0   \n",
       "150             81         90       77              1                   0   \n",
       "194             48         37       41             32                   0   \n",
       "\n",
       "     liveness_%  speechiness_%  \n",
       "93            6              4  \n",
       "120          15              4  \n",
       "131          11              4  \n",
       "150           9              5  \n",
       "194          10             10  \n",
       "\n",
       "[5 rows x 24 columns]"
      ]
     },
     "execution_count": 4,
     "metadata": {},
     "output_type": "execute_result"
    }
   ],
   "source": [
    "\n",
    "filtered_df = df [(df['bpm'] >= 120) & (df['bpm'] <= 140) & (df['mode'] == 'Minor') & (df['key'] == 'A') ]\n",
    "\n",
    "filtered_df.head()"
   ]
  },
  {
   "cell_type": "code",
   "execution_count": 90,
   "id": "584a7159-9560-4cc4-a021-12a0d0f1ec93",
   "metadata": {},
   "outputs": [
    {
     "data": {
      "text/plain": [
       "<Axes: title={'center': 'BPM'}, ylabel='Tempo'>"
      ]
     },
     "execution_count": 90,
     "metadata": {},
     "output_type": "execute_result"
    },
    {
     "data": {
      "image/png": "[encoded data removed]",
      "text/plain": [
       "<Figure size 640x480 with 1 Axes>"
      ]
     },
     "metadata": {},
     "output_type": "display_data"
    }
   ],
   "source": [
    "df['bpm'].plot(kind='bar', title = 'BPM', ylabel = 'Tempo')"
   ]
  },
  {
   "cell_type": "code",
   "execution_count": 59,
   "id": "5109c14b-984f-49be-93a7-808d89f508b8",
   "metadata": {},
   "outputs": [
    {
     "data": {
      "text/plain": [
       "<Axes: title={'center': 'Key'}, xlabel='key'>"
      ]
     },
     "execution_count": 59,
     "metadata": {},
     "output_type": "execute_result"
    },
    {
     "data": {
      "image/png": "[encoded data removed]",
      "text/plain": [
       "<Figure size 640x480 with 1 Axes>"
      ]
     },
     "metadata": {},
     "output_type": "display_data"
    }
   ],
   "source": [
    "df['key'].value_counts().plot(kind='bar', title='Key')"
   ]
  },
  {
   "cell_type": "code",
   "execution_count": 57,
   "id": "a2f901d2-26e0-43c0-a868-f0598910a93b",
   "metadata": {},
   "outputs": [
    {
     "data": {
      "text/plain": [
       "<Axes: title={'center': 'Mode'}, xlabel='mode'>"
      ]
     },
     "execution_count": 57,
     "metadata": {},
     "output_type": "execute_result"
    },
    {
     "data": {
      "image/png": "[encoded data removed]",
      "text/plain": [
       "<Figure size 640x480 with 1 Axes>"
      ]
     },
     "metadata": {},
     "output_type": "display_data"
    }
   ],
   "source": [
    "df['mode'].value_counts().plot(kind='bar', title='Mode')"
   ]
  },
  {
   "cell_type": "code",
   "execution_count": 94,
   "id": "7e930156-2a98-447e-a753-81d5402df287",
   "metadata": {},
   "outputs": [
    {
     "data": {
      "text/plain": [
       "<Axes: title={'center': 'Danceability'}, ylabel='Frequency'>"
      ]
     },
     "execution_count": 94,
     "metadata": {},
     "output_type": "execute_result"
    },
    {
     "data": {
      "image/png": "[encoded data removed]",
      "text/plain": [
       "<Figure size 640x480 with 1 Axes>"
      ]
     },
     "metadata": {},
     "output_type": "display_data"
    }
   ],
   "source": [
    "df['danceability_%'].value_counts().plot(kind='hist', title='Danceability')"
   ]
  },
  {
   "cell_type": "code",
   "execution_count": 61,
   "id": "3f124dcb-ee70-4017-9e78-1e1bf91263f2",
   "metadata": {},
   "outputs": [
    {
     "data": {
      "text/plain": [
       "<Axes: title={'center': 'Energy'}>"
      ]
     },
     "execution_count": 61,
     "metadata": {},
     "output_type": "execute_result"
    },
    {
     "data": {
      "image/png": "[encoded data removed]",
      "text/plain": [
       "<Figure size 640x480 with 1 Axes>"
      ]
     },
     "metadata": {},
     "output_type": "display_data"
    }
   ],
   "source": [
    "df['energy_%'].value_counts().plot(kind='box', title='Energy')"
   ]
  },
  {
   "cell_type": "code",
   "execution_count": 96,
   "id": "b67a0cee-7d89-4b5d-ad41-eba99b9c80d5",
   "metadata": {},
   "outputs": [
    {
     "data": {
      "text/plain": [
       "<Axes: title={'center': 'Speechiness'}, ylabel='Frequency'>"
      ]
     },
     "execution_count": 96,
     "metadata": {},
     "output_type": "execute_result"
    },
    {
     "data": {
      "image/png": "[encoded data removed]",
      "text/plain": [
       "<Figure size 640x480 with 1 Axes>"
      ]
     },
     "metadata": {},
     "output_type": "display_data"
    }
   ],
   "source": [
    "df['speechiness_%'].value_counts().plot(kind='hist', title='Speechiness')"
   ]
  },
  {
   "cell_type": "code",
   "execution_count": 63,
   "id": "5410c9ac-7b48-42e4-8249-f699b903c567",
   "metadata": {},
   "outputs": [
    {
     "data": {
      "text/plain": [
       "<Axes: title={'center': 'Acousticness'}>"
      ]
     },
     "execution_count": 63,
     "metadata": {},
     "output_type": "execute_result"
    },
    {
     "data": {
      "image/png": "[encoded data removed]",
      "text/plain": [
       "<Figure size 640x480 with 1 Axes>"
      ]
     },
     "metadata": {},
     "output_type": "display_data"
    }
   ],
   "source": [
    "df['acousticness_%'].value_counts().plot(kind='box', title='Acousticness')"
   ]
  },
  {
   "cell_type": "code",
   "execution_count": 105,
   "id": "d79d903e-74f7-4d21-b28c-a368747897b8",
   "metadata": {},
   "outputs": [
    {
     "name": "stdout",
     "output_type": "stream",
     "text": [
      "BPM mean:  122.54039874081847\n",
      "BPM median:  121.0\n",
      "BPM mode:  0    120\n",
      "Name: bpm, dtype: int64\n"
     ]
    }
   ],
   "source": [
    "print('BPM mean: ', df['bpm'].mean())\n",
    "print('BPM median: ', df['bpm'].median())\n",
    "print('BPM mode: ', df['bpm'].mode())"
   ]
  },
  {
   "cell_type": "code",
   "execution_count": 106,
   "id": "2d40dd06-ecb0-42c5-a6cb-8a7dc67d4304",
   "metadata": {},
   "outputs": [
    {
     "name": "stdout",
     "output_type": "stream",
     "text": [
      "Danceability mean:  66.96956977964324\n",
      "Danceability median:  69.0\n",
      "Danceability mode:  0    70\n",
      "Name: danceability_%, dtype: int64\n"
     ]
    }
   ],
   "source": [
    "print('Danceability mean: ', df['danceability_%'].mean())\n",
    "print('Danceability median: ', df['danceability_%'].median())\n",
    "print('Danceability mode: ', df['danceability_%'].mode())"
   ]
  },
  {
   "cell_type": "code",
   "execution_count": 107,
   "id": "bac3aff9-128a-428f-a62f-5f791ea6becf",
   "metadata": {},
   "outputs": [
    {
     "name": "stdout",
     "output_type": "stream",
     "text": [
      "Energy mean:  64.2791185729276\n",
      "Energy median:  66.0\n",
      "Energy mode:  0    74\n",
      "Name: energy_%, dtype: int64\n"
     ]
    }
   ],
   "source": [
    "print('Energy mean: ', df['energy_%'].mean())\n",
    "print('Energy median: ', df['energy_%'].median())\n",
    "print('Energy mode: ', df['energy_%'].mode())"
   ]
  },
  {
   "cell_type": "code",
   "execution_count": 108,
   "id": "b6032295-d74d-4ed3-9867-2010e850ce83",
   "metadata": {},
   "outputs": [
    {
     "name": "stdout",
     "output_type": "stream",
     "text": [
      "Speechiness mean:  10.131164742917104\n",
      "Speechiness median:  6.0\n",
      "Speechiness mode:  0    4\n",
      "Name: speechiness_%, dtype: int64\n"
     ]
    }
   ],
   "source": [
    "print('Speechiness mean: ', df['speechiness_%'].mean())\n",
    "print('Speechiness median: ', df['speechiness_%'].median())\n",
    "print('Speechiness mode: ', df['speechiness_%'].mode())"
   ]
  },
  {
   "cell_type": "code",
   "execution_count": 109,
   "id": "7fb38171-180b-43b7-bb74-455b2a72b571",
   "metadata": {},
   "outputs": [
    {
     "name": "stdout",
     "output_type": "stream",
     "text": [
      "Acousticness mean:  27.057712486883524\n",
      "Acousticness median:  18.0\n",
      "Acousticness mode:  0    0\n",
      "Name: acousticness_%, dtype: int64\n"
     ]
    }
   ],
   "source": [
    "print('Acousticness mean: ', df['acousticness_%'].mean())\n",
    "print('Acousticness median: ', df['acousticness_%'].median())\n",
    "print('Acousticness mode: ', df['acousticness_%'].mode())"
   ]
  },
  {
   "cell_type": "code",
   "execution_count": 131,
   "id": "c8e37fca-256e-472b-8fb6-85213ffee07b",
   "metadata": {},
   "outputs": [
    {
     "name": "stdout",
     "output_type": "stream",
     "text": [
      "Key:  0    C#\n",
      "Name: key, dtype: object\n",
      "Mode:  0    Major\n",
      "Name: mode, dtype: object\n"
     ]
    }
   ],
   "source": [
    "print('Key: ', df['key'].mode())\n",
    "print('Mode: ', df['mode'].mode())"
   ]
  },
  {
   "cell_type": "code",
   "execution_count": 140,
   "id": "f77bf2a6-6393-4c47-a628-2922190d5386",
   "metadata": {},
   "outputs": [
    {
     "data": {
      "text/html": [
       "<div>\n",
       "<style scoped>\n",
       "    .dataframe tbody tr th:only-of-type {\n",
       "        vertical-align: middle;\n",
       "    }\n",
       "\n",
       "    .dataframe tbody tr th {\n",
       "        vertical-align: top;\n",
       "    }\n",
       "\n",
       "    .dataframe thead th {\n",
       "        text-align: right;\n",
       "    }\n",
       "</style>\n",
       "<table border=\"1\" class=\"dataframe\">\n",
       "  <thead>\n",
       "    <tr style=\"text-align: right;\">\n",
       "      <th></th>\n",
       "      <th>track_name</th>\n",
       "      <th>artist(s)_name</th>\n",
       "    </tr>\n",
       "  </thead>\n",
       "  <tbody>\n",
       "    <tr>\n",
       "      <th>150</th>\n",
       "      <td>Mi Bello Angel</td>\n",
       "      <td>Natanael Cano</td>\n",
       "    </tr>\n",
       "  </tbody>\n",
       "</table>\n",
       "</div>"
      ],
      "text/plain": [
       "         track_name artist(s)_name\n",
       "150  Mi Bello Angel  Natanael Cano"
      ]
     },
     "execution_count": 140,
     "metadata": {},
     "output_type": "execute_result"
    }
   ],
   "source": [
    "import pandas as pd\n",
    "\n",
    "df = pd.read_csv('spotify-2023.csv', encoding='ISO-8859-1')\n",
    "\n",
    "filtered_df = df[\n",
    "    (df['bpm'] >= 120) &\n",
    "    (df['bpm'] <= 140) &\n",
    "    (df['key'] == 'A') &\n",
    "    (df['mode'] == 'Minor') &\n",
    "    (df['danceability_%'] >= 65) & (df['danceability_%'] <= 90) &\n",
    "    (df['energy_%'] >= 65) & (df['energy_%'] <= 90) &\n",
    "    (df['speechiness_%'] >= 3) & (df['speechiness_%'] <= 8) &\n",
    "    (df['acousticness_%'] >= 0) & (df['acousticness_%'] <= 30)\n",
    "]\n",
    "\n",
    "filtered_df[['track_name', 'artist(s)_name']].head()"
   ]
  },
  {
   "cell_type": "code",
   "execution_count": 141,
   "id": "ba9696f0-ed7c-4c41-a563-91dd590907b5",
   "metadata": {},
   "outputs": [],
   "source": [
    "# What is/are the artist(s) and title(s) of the song? Were any of these songs actually popular?"
   ]
  },
  {
   "cell_type": "code",
   "execution_count": null,
   "id": "adda731f-ea15-4166-8532-318171a219dc",
   "metadata": {},
   "outputs": [],
   "source": [
    "# The artist is Natanael Cano with the song of \"Mi Bello Angel\". No this song wasnt actually popular it was ranked 150."
   ]
  },
  {
   "cell_type": "code",
   "execution_count": null,
   "id": "d6f346b6-57eb-4b43-aa63-c9a822bc2837",
   "metadata": {},
   "outputs": [],
   "source": []
  },
  {
   "cell_type": "code",
   "execution_count": 143,
   "id": "0461aa48-4289-4aa8-b4f1-a992f75dc060",
   "metadata": {},
   "outputs": [],
   "source": [
    "#Pick a song that you know was a smash hit. "
   ]
  },
  {
   "cell_type": "code",
   "execution_count": 151,
   "id": "4477674f-dbb6-42e7-810a-880222170a52",
   "metadata": {},
   "outputs": [
    {
     "data": {
      "text/html": [
       "<div>\n",
       "<style scoped>\n",
       "    .dataframe tbody tr th:only-of-type {\n",
       "        vertical-align: middle;\n",
       "    }\n",
       "\n",
       "    .dataframe tbody tr th {\n",
       "        vertical-align: top;\n",
       "    }\n",
       "\n",
       "    .dataframe thead th {\n",
       "        text-align: right;\n",
       "    }\n",
       "</style>\n",
       "<table border=\"1\" class=\"dataframe\">\n",
       "  <thead>\n",
       "    <tr style=\"text-align: right;\">\n",
       "      <th></th>\n",
       "      <th>track_name</th>\n",
       "      <th>artist(s)_name</th>\n",
       "      <th>bpm</th>\n",
       "      <th>key</th>\n",
       "      <th>mode</th>\n",
       "      <th>danceability_%</th>\n",
       "      <th>energy_%</th>\n",
       "      <th>speechiness_%</th>\n",
       "      <th>acousticness_%</th>\n",
       "    </tr>\n",
       "  </thead>\n",
       "  <tbody>\n",
       "    <tr>\n",
       "      <th>893</th>\n",
       "      <td>Heartless</td>\n",
       "      <td>Kanye West</td>\n",
       "      <td>88</td>\n",
       "      <td>A#</td>\n",
       "      <td>Minor</td>\n",
       "      <td>79</td>\n",
       "      <td>65</td>\n",
       "      <td>14</td>\n",
       "      <td>5</td>\n",
       "    </tr>\n",
       "  </tbody>\n",
       "</table>\n",
       "</div>"
      ],
      "text/plain": [
       "    track_name artist(s)_name  bpm key   mode  danceability_%  energy_%  \\\n",
       "893  Heartless     Kanye West   88  A#  Minor              79        65   \n",
       "\n",
       "     speechiness_%  acousticness_%  \n",
       "893             14               5  "
      ]
     },
     "execution_count": 151,
     "metadata": {},
     "output_type": "execute_result"
    }
   ],
   "source": [
    "import pandas as pd\n",
    "\n",
    "df = pd.read_csv('spotify-2023.csv', encoding='ISO-8859-1')\n",
    "\n",
    "filtered_df = df[\n",
    "    (df['track_name'] == 'Heartless')]\n",
    "\n",
    "filtered_df[['track_name', 'artist(s)_name', 'bpm', 'key', 'mode',\n",
    "             'danceability_%', 'energy_%', 'speechiness_%', 'acousticness_%']]"
   ]
  },
  {
   "cell_type": "code",
   "execution_count": null,
   "id": "cb804b03-91b7-496a-a87c-7770a1764291",
   "metadata": {},
   "outputs": [],
   "source": [
    "# How do the values of BPM, key, mode, danceability, etc. compare to other songs?"
   ]
  },
  {
   "cell_type": "code",
   "execution_count": null,
   "id": "e7697667-bc51-4e27-a167-57ef4af73394",
   "metadata": {},
   "outputs": [],
   "source": [
    "# compared to the other songs that it was ranked pretty high up so not as popular"
   ]
  }
 ],
 "metadata": {
  "kernelspec": {
   "display_name": "Python 3 (ipykernel)",
   "language": "python",
   "name": "python3"
  },
  "language_info": {
   "codemirror_mode": {
    "name": "ipython",
    "version": 3
   },
   "file_extension": ".py",
   "mimetype": "text/x-python",
   "name": "python",
   "nbconvert_exporter": "python",
   "pygments_lexer": "ipython3",
   "version": "3.13.5"
  }
 },
 "nbformat": 4,
 "nbformat_minor": 5
}
